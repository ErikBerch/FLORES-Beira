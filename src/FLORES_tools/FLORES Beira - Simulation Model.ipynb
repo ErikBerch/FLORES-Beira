{
 "cells": [
  {
   "cell_type": "markdown",
   "metadata": {},
   "source": [
    "\n",
    "# System Optimization - Damage Model\n",
    "This is the main system optimization (MODOS) - Damage Model. It is part of a research project at the TU Delft on developing a tool which can help decision making early on in the design process. It uses the limited data availabe during conceptual design to show how design choices affect an area vulnerable to flooding and helps to optimize the system of flood risk reduction measures.\n",
    "\n",
    "## Model Setup\n",
    "The system optimization works by combining two models: The Optimization Model and the Damage Model. The Damage Model (this file) simulates the impact of a given storm on a vulnerable region. Also, it is possible to simulate the change of impact due to the implementation of a Flood Risk Reduction Stategy. This strategy can consist of a number of different flood risk reduction measures.\n",
    "\n",
    "The Optimization Model is able to run the Damage Model numerous times, with different storms and different Flood Risk Reduction Strategies an analyze the outcome. With this data, it is possible to learn and predict how the region would react to particular design choices and show how the impact of one measure would change by changing the rest of the system. The Optimization Model is not included in this notebook.\n",
    "\n",
    "## Damage Model\n",
    "The core of the system optimzation is the Damage Model, which is primarily run from this script. It models the vulnerable region as a sequence of Protective Layers and Protected Areas. Here, the protective layers can (but do not have to) consist of flood defense structures, like levees or storm surge barrier. These can be placed on land, as well as in water. The protected areas are defined as areas where flood protective is not the primary land use. This is where the people live and work and will  therefore account for most of the damage. The damage follows from a calculation of the water levels in different parts of the region. \n",
    "\n",
    "The water levels, wave heights, failure probabilities and anything related to these variables are based on simplified hydraulic formulas. The boundary conditions at sea are based on externally run (ADCIRC) models. \n",
    "\n",
    "The Damage Model follows the path of the flood, as it starts at sea and runs toward the coast and further inland. The strength of the model is its ability to include multiple layers of defense. Also, it is possible to include a wide variety of flood risk reduction measures, from structural flood defenses to Nature-based Solutions or Spatial planning policies.\n",
    "\n",
    "## How to use the Damage Model\n",
    "Many functions in this model are based on definitions and calculations from other files. These files should be included in a folder \"Library\", which should be located in the same folder as the model itself. the required files are:\n",
    "\n",
    " - DamageModelCalculations.py \n",
    " - DamageModelDefinitions.py\n",
    "\n",
    "The model is still under construction. If you make any changes, please note the latest changes.\n",
    "<br>\n",
    "<br>\n",
    "Author: E.C. van Berchum(TU Delft)\n",
    "\n",
    "\n",
    "Version Damage Model: V0.1\n",
    "Last Updated on June 28 (Erik):\n",
    "\n",
    " - imported to jupyter     \n"
   ]
  },
  {
   "cell_type": "code",
   "execution_count": 1,
   "metadata": {},
   "outputs": [
    {
     "data": {
      "text/plain": [
       "'D:\\\\ecvanberchum\\\\Surfdrive\\\\MODOS\\\\MODOS_model\\\\FLORES_main'"
      ]
     },
     "execution_count": 1,
     "metadata": {},
     "output_type": "execute_result"
    }
   ],
   "source": [
    "import sys\n",
    "sys.path.append('./Packages')\n",
    "%pwd"
   ]
  },
  {
   "cell_type": "code",
   "execution_count": 3,
   "metadata": {},
   "outputs": [],
   "source": [
    "from __future__ import (absolute_import, division,\n",
    "                        print_function, unicode_literals)\n",
    "\n",
    "from Library.simulation_calculations_beira import run_hydraulic_calculation\n",
    "from Library.simulation_definitions_beira import (Impact)\n",
    "\n",
    "import Library.simulation_data_beira as data\n",
    "\n",
    "%matplotlib inline\n",
    "import matplotlib.pyplot as plt\n",
    "import scipy.stats as ss\n",
    "import numpy as np\n",
    "import seaborn as sns\n",
    "from timeit import default_timer as timer\n",
    "import csv\n",
    "\n",
    "time_prep = timer()\n",
    "basins_master = data.load_basins(\"Library/input_data/region_layout_basins.csv\",\n",
    "                            \"Library/input_data/urban_development_scenarios.csv\")  # Regional Layout\n",
    "layers_master = data.load_layers(\"Library/input_data/region_layout_layers.csv\", basins_master)\n",
    "all_measures_master = data.load_measures(\"Library/input_data/flood_risk_reduction_measures.csv\")\n",
    "hydraulic_conditions_master = data.load_hydraulic_conditions(\"Library/input_data/hydraulic_boundary_conditions_surge_beira.csv\",\n",
    "                                                        \"Library/input_data/hydraulic_boundary_conditions_rain_beira.csv\")\n",
    "\n",
    "damage_curves = data.load_damage_curves('Library/input_data/global_flood_depth-damage_functions__30102017.xlsx', 'AFRICA',\n",
    "                                   'Mozambique', 'Object based', 1.30)\n",
    "data.load_basin_borders(basins_master, \"Library/input_data/region_layout_basin_borders.csv\")\n",
    "drainage_master = data.load_drainage_capacities(basins_master, 'Library/input_data/basins_drainage.csv', small_channel=6,\n",
    "                                           mid_channel=10, large_channel=35, low_drain=0, mid_drain=2, high_drain=4)\n",
    "\n",
    "\n"
   ]
  },
  {
   "cell_type": "markdown",
   "metadata": {
    "collapsed": true
   },
   "source": [
    "# Define the model\n",
    "\n",
    "This part shows all the main calculations done inside the model. The Galveston Bay Region is divided into two layers of flood protection (the Coastal Zone and the Inland Protective Layer) and two layers of Protected Area (1st Protected Area and 2nd Protected Area).\n",
    "\n",
    "The current chosen output is shown after the 'return' command. This includes information on:\n",
    " - Expected damage costs as a result of a 1 / (RP_Storm) year event with the chosen strategy in place\n",
    " - Construction cost of the flood risk reduction measures that make up the strategy\n",
    " - Expected repair costs to flood risk reduction measures due to failure, weigted for probability of failure\n",
    " - Inland codes. these are the 16 possible inland scenarios, with probability and water level. \n",
    "     the codes vary from 1.1 to 4.4, where the first number is the coastal situation and the second the situation \n",
    "     at the inland barrier. the numbers mean: 1 = both barriers hold. 2 = land barrier fails. 3 = water barrier fails.\n",
    "     4 = both barriers fail.\n",
    "     \n",
    " - Coastal situation. These are the 4 possible outcomes of the situation in the coastal zone, with probability,\n",
    "   water level, surge data at the coast and resulting surge inside the bay.\n",
    "   \n",
    " - Hydraulic boundary conditions (hydr). This dictionary includes all hydraulic input parameters.\n",
    " "
   ]
  },
  {
   "cell_type": "code",
   "execution_count": 4,
   "metadata": {},
   "outputs": [],
   "source": [
    "def flood_simulation_model(return_period_storm = 0,    # 0, 2, 5, 10, 50, 100\n",
    "                             return_period_rain = 0,    # 0, 2, 5, 10, 50, 100\n",
    "                             struc_measure_coast_1 = 'none',  # 'Heighten dunes east','Sand supplements east', None\n",
    "                             struc_measure_coast_2 = 'none',  # 'Heighten dunes west','Floodwall west'', None\n",
    "                             struc_measure_inland_1 = 'none',  # 'Heighten inland road', None\n",
    "                             struc_measure_inland_2 = 'none',\n",
    "                             drainage_measure_1 = 'none',  # 'Second phase drainage', None\n",
    "                             drainage_measure_2 = 'none',   # 'Microdrainage, None\n",
    "                             retention_measure_1 = 'none',  # 'East retention', None\n",
    "                             retention_measure_2 = 'none',    # 'Maraza retention, None\n",
    "                             emergency_measure_1 = 'none',  # 'Improve evacuation', None\n",
    "                             emergency_measure_2 = 'none',    # 'Early warning system', None\n",
    "                             h_struc_measure_coast_1 = 0,  # 8-12\n",
    "                             h_struc_measure_coast_2 = 0,  # 8-12\n",
    "                             h_struc_measure_inland_1 = 0,  # 7-10\n",
    "                             h_struc_measure_inland_2 = 0,\n",
    "                             input_scenario_climate = 'none',  # 'high','low', 'none'\n",
    "                             input_scenario_development = 'none'  # 'high','low', 'none'\n",
    "                            ):\n",
    "        # added so we can add scenario information into the replicator\n",
    "    if return_period_rain == 'INFO':\n",
    "        scenario_info = str(input_scenario_climate) + ',' + str(input_scenario_development)\n",
    "        return [scenario_info]*3\n",
    "    \n",
    "        # start of model, loads simulation-specific data\n",
    "    hydraulic = data.get_hydraulic_boundary_conditions(hydraulic_conditions_master, return_period_storm, return_period_rain,\n",
    "                                                  input_scenario_climate)\n",
    "    region_layout = data.get_region_layout(basins_master, layers_master, input_scenario_development)\n",
    "    strategy = data.get_strategy(all_measures_master, region_layout,\n",
    "                            [struc_measure_coast_1, struc_measure_coast_2, struc_measure_inland_1, struc_measure_inland_2,\n",
    "                             drainage_measure_1, drainage_measure_2, retention_measure_1, retention_measure_2,\n",
    "                             emergency_measure_1, emergency_measure_2],\n",
    "                            [h_struc_measure_coast_1, h_struc_measure_coast_2, h_struc_measure_inland_1,\n",
    "                             h_struc_measure_inland_2])\n",
    "    impact = Impact()\n",
    "\n",
    "    # Builds and correctly names the scenarios\n",
    "    for sequence in [1, 3]:\n",
    "        region_layout.Layers[sequence].get_scenarios()\n",
    "    strategy.get_list_scenarios(region_layout)\n",
    "\n",
    "    # Hydraulic calculations, runs entire hydraulic simulation (pluvial and storm surge flooding)\n",
    "    run_hydraulic_calculation(region_layout, hydraulic, strategy)\n",
    "\n",
    "    strategy.get_probabilities(region_layout, hydraulic)\n",
    "\n",
    "    # Calculate cost of construction and repair\n",
    "    total_cost = strategy.get_construction_costs()\n",
    "\n",
    "    # Impact calculations, calculates expected damages and exposed population per basin and in total\n",
    "    impact.run_impact_calculations(region_layout, strategy, damage_curves)\n",
    "    expected_damage = impact.TotalExpectedDamage\n",
    "    construction_cost = total_cost\n",
    "    affected_population = impact.TotalExpectedExposedPop\n",
    "    \n",
    "    return expected_damage, construction_cost, affected_population"
   ]
  },
  {
   "cell_type": "markdown",
   "metadata": {},
   "source": [
    "# Run the model without barrier\n",
    "\n",
    "The following command runs the model. here you can choose the input parameters, consisting of different flood risk reduction measures, heights of the flood risk reduction measures and the return period of the storm.\n",
    "\n",
    "Also, the output list needs to allign with the 'return'-statement in the defined function above. \n",
    "\n",
    "At this point, no barrier are chosen. all scenarios look the same, this results in the maximum damage for this return period of storm"
   ]
  },
  {
   "cell_type": "code",
   "execution_count": 10,
   "metadata": {},
   "outputs": [
    {
     "name": "stdout",
     "output_type": "stream",
     "text": [
      "computation time is 11.114223437045894 seconds\n",
      "total damage is:  83422035.82623976\n",
      "total construction cost is:  0\n",
      "total affected population is:  304563.11514265556\n"
     ]
    }
   ],
   "source": [
    "start = timer()\n",
    "\n",
    "[expected_damage, construction_cost, affected_population] = flood_simulation_model(\n",
    "    return_period_storm = 0,\n",
    "    return_period_rain = 100,\n",
    "    struc_measure_coast_1 = 'none',  # 'Heighten dunes east','Sand supplements east', None\n",
    "    struc_measure_coast_2 = 'none',  # 'Heighten dunes west','Floodwall west'', None\n",
    "    struc_measure_inland_1 = 'none',  # 'Heighten inland road', None\n",
    "    struc_measure_inland_2 = 'none',                   # None\n",
    "    drainage_measure_1 = 'none',  # 'Second phase drainage', None\n",
    "    drainage_measure_2 = 'none',  # 'Microdrainage, None\n",
    "    retention_measure_1 = 'none',  # 'East retention', None\n",
    "    retention_measure_2 = 'none',   # 'Chota retention', None\n",
    "    emergency_measure_1 = 'none',  # 'Improve evacuation', None\n",
    "    emergency_measure_2 = 'none',   # 'Early warning system', None\n",
    "    h_struc_measure_coast_1 = 8.2731906,  # 8-12\n",
    "    h_struc_measure_coast_2 = 11.872320,  # 8-12\n",
    "    h_struc_measure_inland_1 = 11.3344123,  # 7-10\n",
    "    h_struc_measure_inland_2 = 0,     # 0\n",
    "    input_scenario_climate = 'high',  # 'high','low', 'none'\n",
    "    input_scenario_development = 'low'  # 'high','low', 'none'\n",
    "    )\n",
    "end = timer()\n",
    "\n",
    "print('computation time is {} seconds'.format(end - start))\n",
    "print('total damage is: ', expected_damage)\n",
    "print('total construction cost is: ', construction_cost)\n",
    "print('total affected population is: ', affected_population)"
   ]
  },
  {
   "cell_type": "code",
   "execution_count": 9,
   "metadata": {},
   "outputs": [
    {
     "name": "stdout",
     "output_type": "stream",
     "text": [
      "computation time is 11.379789489859093 seconds\n",
      "total damage is:  80868072.48283014\n",
      "total construction cost is:  18.5\n",
      "total affected population is:  175213.25049992948\n"
     ]
    }
   ],
   "source": [
    "start = timer()\n",
    "\n",
    "[expected_damage, construction_cost, affected_population] = flood_simulation_model(\n",
    "    return_period_storm = 0,\n",
    "    return_period_rain = 100,\n",
    "    struc_measure_coast_1 = 'none',  # 'Heighten dunes east','Sand supplements east', None\n",
    "    struc_measure_coast_2 = 'none',  # 'Heighten dunes west','Floodwall west'', None\n",
    "    struc_measure_inland_1 = 'none',  # 'Heighten inland road', None\n",
    "    struc_measure_inland_2 = 'none',                   # None\n",
    "    drainage_measure_1 ='Second_phase_drainage',  # 'Second phase drainage', None\n",
    "    drainage_measure_2 = 'none',  # 'Microdrainage, None\n",
    "    retention_measure_1 = 'East_retention',  # 'East retention', None\n",
    "    retention_measure_2 = 'none',   # 'Chota retention', None\n",
    "    emergency_measure_1 = 'Improve_evacuation',  # 'Improve evacuation', None\n",
    "    emergency_measure_2 = 'none',   # 'Early warning system', None\n",
    "    h_struc_measure_coast_1 = 8.2731906,  # 8-12\n",
    "    h_struc_measure_coast_2 = 11.872320,  # 8-12\n",
    "    h_struc_measure_inland_1 = 11.3344123,  # 7-10\n",
    "    h_struc_measure_inland_2 = 0,     # 0\n",
    "    input_scenario_climate = 'high',  # 'high','low', 'none'\n",
    "    input_scenario_development = 'low'  # 'high','low', 'none'\n",
    "    )\n",
    "end = timer()\n",
    "\n",
    "print('computation time is {} seconds'.format(end - start))\n",
    "print('total damage is: ', expected_damage)\n",
    "print('total construction cost is: ', construction_cost)\n",
    "print('total affected population is: ', affected_population)"
   ]
  },
  {
   "cell_type": "code",
   "execution_count": null,
   "metadata": {},
   "outputs": [],
   "source": []
  },
  {
   "cell_type": "code",
   "execution_count": null,
   "metadata": {},
   "outputs": [],
   "source": []
  }
 ],
 "metadata": {
  "kernelspec": {
   "display_name": "Python 3",
   "language": "python",
   "name": "python3"
  },
  "language_info": {
   "codemirror_mode": {
    "name": "ipython",
    "version": 3
   },
   "file_extension": ".py",
   "mimetype": "text/x-python",
   "name": "python",
   "nbconvert_exporter": "python",
   "pygments_lexer": "ipython3",
   "version": "3.6.7"
  }
 },
 "nbformat": 4,
 "nbformat_minor": 1
}
